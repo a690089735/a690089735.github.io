{
 "cells": [
  {
   "cell_type": "code",
   "execution_count": 7,
   "metadata": {},
   "outputs": [
    {
     "name": "stderr",
     "output_type": "stream",
     "text": [
      "100%|██████████| 100/100 [00:14<00:00,  6.68it/s]\n",
      "100%|██████████| 31/31 [01:19<00:00,  2.58s/it]\n",
      "100%|██████████| 100/100 [00:22<00:00,  4.45it/s]\n",
      "100%|██████████| 38/38 [01:51<00:00,  2.93s/it]\n",
      "100%|██████████| 100/100 [00:35<00:00,  2.83it/s]\n",
      "100%|██████████| 37/37 [02:45<00:00,  4.48s/it]\n",
      "100%|██████████| 100/100 [00:46<00:00,  2.14it/s]\n",
      "100%|██████████| 37/37 [03:01<00:00,  4.90s/it]\n",
      "100%|██████████| 100/100 [00:37<00:00,  2.68it/s]\n",
      "100%|██████████| 38/38 [02:46<00:00,  4.38s/it]\n",
      "100%|██████████| 100/100 [00:33<00:00,  3.01it/s]\n",
      "100%|██████████| 35/35 [02:38<00:00,  4.53s/it]\n",
      "100%|██████████| 100/100 [00:35<00:00,  2.80it/s]\n",
      "100%|██████████| 35/35 [02:21<00:00,  4.05s/it]\n",
      "100%|██████████| 100/100 [00:36<00:00,  2.77it/s]\n",
      "100%|██████████| 37/37 [02:54<00:00,  4.71s/it]\n",
      "100%|██████████| 100/100 [00:32<00:00,  3.07it/s]\n",
      "100%|██████████| 34/34 [02:28<00:00,  4.36s/it]\n",
      "100%|██████████| 100/100 [00:42<00:00,  2.33it/s]\n",
      "100%|██████████| 37/37 [03:02<00:00,  4.92s/it]\n"
     ]
    }
   ],
   "source": [
    "from bark import SAMPLE_RATE, generate_audio\n",
    "from IPython.display import Audio\n",
    "import soundfile as sf\n",
    "\n",
    "# [clears throat]\n",
    "text_prompt = \"\"\"\n",
    "     白日依山尽，黄河入海流。\n",
    "     欲穷千里目，更上一层楼。\n",
    "     少年不识愁滋味，爱上层楼。爱上层楼，为赋新词强说愁。\n",
    "     而今识尽愁滋味，欲说还休。欲说还休，却道天凉好个秋。\n",
    "\"\"\"\n",
    "for i in range(10):\n",
    "    speakerName = f\"zh_speaker_{i}\"\n",
    "    audio_array = generate_audio(text_prompt, history_prompt=speakerName)\n",
    "    sf.write(f\"D:\\\\{speakerName}.wav\", audio_array, SAMPLE_RATE)\n"
   ]
  }
 ],
 "metadata": {
  "kernelspec": {
   "display_name": "BarkTest",
   "language": "python",
   "name": "python3"
  },
  "language_info": {
   "codemirror_mode": {
    "name": "ipython",
    "version": 3
   },
   "file_extension": ".py",
   "mimetype": "text/x-python",
   "name": "python",
   "nbconvert_exporter": "python",
   "pygments_lexer": "ipython3",
   "version": "3.9.16"
  },
  "orig_nbformat": 4
 },
 "nbformat": 4,
 "nbformat_minor": 2
}
