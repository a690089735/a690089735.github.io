{
 "cells": [
  {
   "cell_type": "code",
   "execution_count": 2,
   "metadata": {},
   "outputs": [
    {
     "name": "stdout",
     "output_type": "stream",
     "text": [
      "Files already downloaded and verified\n"
     ]
    }
   ],
   "source": [
    "import torch\n",
    "import torch.nn as nn\n",
    "import torch.nn.functional as F\n",
    "import torchvision\n",
    "import torchvision.transforms as transforms\n",
    "# cifar-10官方提供的数据集是用numpy array存储的\n",
    "# 下面这个transform会把numpy array变成torch tensor，然后把rgb值归一到[0, 1]这个区间\n",
    "transform = transforms.Compose([transforms.ToTensor(), transforms.Normalize((0.5, 0.5, 0.5), (0.5, 0.5, 0.5))])\n",
    "\n",
    "# 在构建数据集的时候指定transform，就会应用我们定义好的transform\n",
    "# root是存储数据的文件夹，download=True指定如果数据不存在先下载数据\n",
    "cifar_train = torchvision.datasets.CIFAR10(root='./data', train=True, download=True, transform=transform)\n",
    "cifar_test = torchvision.datasets.CIFAR10(root='./data', train=False, transform=transform)\n"
   ]
  },
  {
   "cell_type": "code",
   "execution_count": 4,
   "metadata": {},
   "outputs": [
    {
     "name": "stdout",
     "output_type": "stream",
     "text": [
      "Dataset CIFAR10\n",
      "    Number of datapoints: 50000\n",
      "    Root location: ./data\n",
      "    Split: Train\n",
      "    StandardTransform\n",
      "Transform: Compose(\n",
      "               ToTensor()\n",
      "               Normalize(mean=(0.5, 0.5, 0.5), std=(0.5, 0.5, 0.5))\n",
      "           )\n",
      "Dataset CIFAR10\n",
      "    Number of datapoints: 10000\n",
      "    Root location: ./data\n",
      "    Split: Test\n",
      "    StandardTransform\n",
      "Transform: Compose(\n",
      "               ToTensor()\n",
      "               Normalize(mean=(0.5, 0.5, 0.5), std=(0.5, 0.5, 0.5))\n",
      "           )\n"
     ]
    }
   ],
   "source": [
    "# load完了之后我们看看这两个数据集的信息\n",
    "print(cifar_train)\n",
    "print(cifar_test)"
   ]
  },
  {
   "cell_type": "code",
   "execution_count": 10,
   "metadata": {},
   "outputs": [
    {
     "name": "stdout",
     "output_type": "stream",
     "text": [
      "(50000, 32, 32, 3)\n",
      "<class 'list'> 50000\n",
      "(10000, 32, 32, 3)\n",
      "<class 'list'> 10000\n"
     ]
    }
   ],
   "source": [
    "# 数据其实是用numpy array存储的，label是个list\n",
    "\n",
    "# 旧版\n",
    "# print(cifar_train.train_data.shape)\n",
    "# print(type(cifar_train.train_labels), len(cifar_train.train_labels))\n",
    "# print(cifar_test.test_data.shape)\n",
    "# print(type(cifar_test.test_labels), len(cifar_test.test_labels))\n",
    "\n",
    "# 新版\n",
    "print(cifar_train.data.shape)\n",
    "print(type(cifar_train.targets), len(cifar_train.targets))\n",
    "print(cifar_test.data.shape)\n",
    "print(type(cifar_test.targets), len(cifar_test.targets))"
   ]
  },
  {
   "cell_type": "code",
   "execution_count": 12,
   "metadata": {},
   "outputs": [],
   "source": [
    "# 在训练的时候我们可以自己写代码手动遍历数据集，指定batch和遍历方法，不过PyTorch提供了一个DataLoader类来方便我们完成这些操作。\n",
    "trainloader = torch.utils.data.DataLoader(cifar_train, batch_size=32, shuffle=True)\n",
    "testloader = torch.utils.data.DataLoader(cifar_test, batch_size=32, shuffle=True)"
   ]
  },
  {
   "attachments": {},
   "cell_type": "markdown",
   "metadata": {},
   "source": [
    "现在我们来定义卷积神经网络，为了简单起见，我们使用经典的LeNet，它包含两个卷积层和三个全连接层，网络结构如图\n",
    "![](https://pic4.zhimg.com/80/v2-153a890f1412bea4542d568d2f071fc7_720w.webp)"
   ]
  },
  {
   "cell_type": "markdown",
   "metadata": {},
   "source": []
  },
  {
   "cell_type": "code",
   "execution_count": null,
   "metadata": {},
   "outputs": [],
   "source": [
    "# 在PyTorch中定义神经网络非常简单，第一步先是继承nn.module这个类，然后定义如下两个函数，一般的网络这样操作就足够了\n",
    "class LeNet(nn.Module):\n",
    "    # 一般在__init__中定义网络需要的操作算子，比如卷积、全连接算子等等\n",
    "    def __init__(self):\n",
    "        super(LeNet, self).__init__()\n",
    "        # Conv2d的第一个参数是输入的channel数量，第二个是输出的channel数量，第三个是kernel size\n",
    "        self.conv1 = nn.Conv2d(3, 6, 5)\n",
    "        self.conv2 = nn.Conv2d(6, 16, 5)\n",
    "        # 由于上一层有16个channel输出，每个feature map大小为5*5，所以全连接层的输入是16*5*5\n",
    "        self.fc1 = nn.Linear(16*5*5, 120)\n",
    "        self.fc2 = nn.Linear(120, 84)\n",
    "        # 最终有10类，所以最后一个全连接层输出数量是10\n",
    "        self.fc3 = nn.Linear(84, 10)\n",
    "        self.pool = nn.MaxPool2d(2, 2)\n",
    "    # forward这个函数定义了前向传播的运算，只需要像写普通的python算数运算那样就可以了\n",
    "    def forward(self, x):\n",
    "        x = F.relu(self.conv1(x))\n",
    "        x = self.pool(x)\n",
    "        x = F.relu(self.conv2(x))\n",
    "        x = self.pool(x)\n",
    "        # 下面这步把二维特征图变为一维，这样全连接层才能处理\n",
    "        x = x.view(-1, 16*5*5)\n",
    "        x = F.relu(self.fc1(x))\n",
    "        x = F.relu(self.fc2(x))\n",
    "        x = self.fc3(x)\n",
    "        return x"
   ]
  }
 ],
 "metadata": {
  "kernelspec": {
   "display_name": "PytorchLearn",
   "language": "python",
   "name": "python3"
  },
  "language_info": {
   "codemirror_mode": {
    "name": "ipython",
    "version": 3
   },
   "file_extension": ".py",
   "mimetype": "text/x-python",
   "name": "python",
   "nbconvert_exporter": "python",
   "pygments_lexer": "ipython3",
   "version": "3.9.16"
  },
  "orig_nbformat": 4
 },
 "nbformat": 4,
 "nbformat_minor": 2
}
